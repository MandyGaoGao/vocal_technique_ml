{
 "cells": [
  {
   "cell_type": "code",
   "execution_count": 1,
   "metadata": {},
   "outputs": [
    {
     "name": "stdout",
     "output_type": "stream",
     "text": [
      "Index(['ID', 'Link', 'Comment'], dtype='object')\n"
     ]
    },
    {
     "name": "stderr",
     "output_type": "stream",
     "text": [
      "C:\\Users\\gaoyu\\AppData\\Local\\Continuum\\anaconda3\\lib\\site-packages\\pandas\\io\\excel.py:329: FutureWarning: The `sheetname` keyword is deprecated, use `sheet_name` instead\n",
      "  **kwds)\n"
     ]
    }
   ],
   "source": [
    "import pandas as pd\n",
    "from pandas import ExcelWriter\n",
    "from pandas import ExcelFile\n",
    "fpath=r\"C:\\Users\\gaoyu\\Desktop\\coaching_list.xlsx\"\n",
    "df = pd.read_excel(fpath, sheet_name='Sheet1')\n",
    "print(df.columns)"
   ]
  },
  {
   "cell_type": "code",
   "execution_count": 4,
   "metadata": {},
   "outputs": [
    {
     "data": {
      "text/plain": [
       "str"
      ]
     },
     "execution_count": 4,
     "metadata": {},
     "output_type": "execute_result"
    }
   ],
   "source": [
    "df.index\n",
    "type(df['Comment'][0])"
   ]
  },
  {
   "cell_type": "code",
   "execution_count": 7,
   "metadata": {},
   "outputs": [],
   "source": [
    "r1=\"头腔\"\n",
    "r1l=[]\n",
    "r2=\"胸腔\"\n",
    "r2l=[]\n",
    "r3=\"鼻腔\"\n",
    "r3l=[]\n",
    "r0l=[]\n",
    "for i in df.index:\n",
    "    word=df['Comment'][i]\n",
    "    if(word.find('共鸣') != -1):\n",
    "        if(word.find(r1) != -1):\n",
    "            r1l.append(df['Link'][i])\n",
    "        elif(word.find(r2) != -1):\n",
    "            r2l.append(df['Link'][i])\n",
    "        elif(word.find(r3) != -1):\n",
    "            r3l.append(df['Link'][i])\n",
    "        else:\n",
    "            r0l.append(df['Link'][i])\n",
    "            \n",
    "  "
   ]
  },
  {
   "cell_type": "code",
   "execution_count": 9,
   "metadata": {},
   "outputs": [
    {
     "name": "stdout",
     "output_type": "stream",
     "text": [
      "28 32 5 17\n"
     ]
    }
   ],
   "source": [
    "print(len(r1l),len(r2l),len(r3l),len(r0l))\n",
    "#头 胸 鼻 总"
   ]
  },
  {
   "cell_type": "code",
   "execution_count": null,
   "metadata": {},
   "outputs": [],
   "source": []
  }
 ],
 "metadata": {
  "kernelspec": {
   "display_name": "Python 3",
   "language": "python",
   "name": "python3"
  },
  "language_info": {
   "codemirror_mode": {
    "name": "ipython",
    "version": 3
   },
   "file_extension": ".py",
   "mimetype": "text/x-python",
   "name": "python",
   "nbconvert_exporter": "python",
   "pygments_lexer": "ipython3",
   "version": "3.6.4"
  }
 },
 "nbformat": 4,
 "nbformat_minor": 2
}
