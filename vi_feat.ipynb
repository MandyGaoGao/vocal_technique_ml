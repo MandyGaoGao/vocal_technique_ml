{
 "cells": [
  {
   "cell_type": "code",
   "execution_count": 93,
   "metadata": {},
   "outputs": [],
   "source": [
    "import os\n",
    "import argparse\n",
    "from pydub import AudioSegment\n",
    "#trim audio and save\n",
    "import numpy\n",
    "import math\n",
    "import scipy.io.wavfile\n",
    "import librosa\n",
    "import pandas\n",
    "# prep piptrack\n",
    "class Config(object):\n",
    "    n_fft = 1024\n",
    "    hop_length=220\n",
    "    sr = 44000\n",
    "    duration = 120\n",
    "    feature = \"mel\"\n",
    "\n",
    "conf = Config()    "
   ]
  },
  {
   "cell_type": "code",
   "execution_count": 94,
   "metadata": {},
   "outputs": [
    {
     "data": {
      "text/plain": [
       "436884"
      ]
     },
     "execution_count": 94,
     "metadata": {},
     "output_type": "execute_result"
    }
   ],
   "source": [
    "len(y)\n",
    "#times[i] = frames[i] * hop_length / sr"
   ]
  },
  {
   "cell_type": "code",
   "execution_count": 95,
   "metadata": {},
   "outputs": [],
   "source": [
    "import librosa\n",
    "import numpy as np\n",
    "import os\n",
    "import sys\n",
    "import h5py\n",
    "import multiprocessing\n",
    "import functools\n",
    "import h5py\n",
    "import threading\n",
    "from pathlib import Path\n",
    "from numpy import pi, convolve\n",
    "from scipy.signal.filter_design import bilinear\n",
    "from scipy.signal import lfilter\n",
    "\n",
    "\n",
    "def extract_max(pitches, magnitudes, shape):\n",
    "    new_pitches = []\n",
    "    new_magnitudes = []\n",
    "    for i in range(0, shape[1]):\n",
    "        new_pitches.append(np.max(pitches[:,i]))\n",
    "        new_magnitudes.append(np.max(magnitudes[:,i]))\n",
    "    return (new_pitches,new_magnitudes)\n",
    "\n",
    "\n",
    "def smooth(x, window_len=11, window='hanning'):\n",
    "    if window_len<3:\n",
    "        return x\n",
    "    if not window in ['flat', 'hanning', 'hamming', 'bartlett', 'blackman']:\n",
    "        raise ValueError(\"Window is on of 'flat', 'hanning', 'hamming', 'bartlett', 'blackman'\")\n",
    "    s=np.r_[2*x[0]-x[window_len-1::-1],x,2*x[-1]-x[-1:-window_len:-1]]\n",
    "    if window == 'flat': #moving average\n",
    "        w=np.ones(window_len,'d')\n",
    "    else:\n",
    "        w=eval('np.'+window+'(window_len)')\n",
    "    y=np.convolve(w/w.sum(),s,mode='same')\n",
    "    return y[window_len:-window_len+1]\n",
    "\n",
    "def pitch_detect(y, sr):\n",
    "    pitches, magnitudes = librosa.core.piptrack(y=y, sr=sr,hop_length=220)\n",
    "    shape = pitches.shape\n",
    "    nb_samples = shape[0]\n",
    "    print(nb_samples)\n",
    "    nb_windows = shape[1]\n",
    "    print(nb_windows)\n",
    "    pitches, magnitudes = extract_max(pitches, magnitudes, shape)\n",
    "    pitches = smooth(pitches, window_len=5)\n",
    "    return pitches\n",
    "\n",
    "\n"
   ]
  },
  {
   "cell_type": "code",
   "execution_count": 96,
   "metadata": {},
   "outputs": [],
   "source": [
    "def get_pitch_time_series(fpath):\n",
    "    y,sr=librosa.load(fpath,sr=conf.sr,res_type=\"kaiser_fast\")\n",
    "    pip=pitch_detect(y,sr)\n",
    "    #change to MIDI notes\n",
    "    pip=12*np.log(pip/440.0)/np.log(2.0)+69\n",
    "    #section to 0.005s=5ms pitch series\n",
    "    lens=pip.shape[0]\n",
    "    pips = np.array([])\n",
    "    for i in range(lens):\n",
    "        time_pitch_pair=[]\n",
    "        time_pitch_pair.append(i*220/sr)\n",
    "        time_pitch_pair.append(pip[i])\n",
    "        if pips.size == 0:\n",
    "            pips = np.array(time_pitch_pair)\n",
    "        else:\n",
    "            pips = np.vstack((pips,np.array(time_pitch_pair)))\n",
    "    return pips#(nums,)"
   ]
  },
  {
   "cell_type": "code",
   "execution_count": 97,
   "metadata": {},
   "outputs": [],
   "source": [
    "from scipy.fftpack import fft\n",
    "NFFT = 512\n",
    "F_low = 5\n",
    "F_high = 8\n",
    "\n",
    "def VibratoFeature(time_pitch):\n",
    "    NFFT = 512\n",
    "    pitch_hop = 0.005\n",
    "    freq = np.arange(0, 1 / (2 * pitch_hop), (1 / (pitch_hop * NFFT)))\n",
    "\n",
    "    time = time_pitch[:,0]\n",
    "    pitch = time_pitch[:,1]\n",
    "    vib_features = np.array([])\n",
    "\n",
    "    cur_time = 0\n",
    "    time_length = 0.5 #分析长度为0.5s\n",
    "    time_hop = 0.25 #滑动为0.25秒\n",
    "    while cur_time<time[-1]:\n",
    "        time_stamp = np.array([cur_time,cur_time+time_length])\n",
    "        \n",
    "        features = []\n",
    "        n1 = np.argmin(np.abs(np.subtract(time, time_stamp[0])))\n",
    "        n2 = np.argmin(np.abs(np.subtract(time, time_stamp[1])))\n",
    "        pitch_snippet = pitch[n1:n2+1]\n",
    "        time_snippet = time[n1:n2+1]\n",
    "\n",
    "        pitch_snippet = pitch_snippet - np.mean(pitch_snippet)\n",
    "\n",
    "        ### Likelihood\n",
    "        X = np.abs(fft(pitch_snippet * np.hamming(len(pitch_snippet)), NFFT))\n",
    "        Xhalf_norm = X[0:int(NFFT / 2)] / sum(X[0:int(NFFT / 2)])\n",
    "        vib_region = Xhalf_norm[(freq >= F_low) & (freq <= F_high)]\n",
    "        vib_power = sum(vib_region)\n",
    "        vib_sum_power = sum(Xhalf_norm)\n",
    "        vib_power_ratio = vib_power/vib_sum_power\n",
    "        features.append(vib_power_ratio)\n",
    "\n",
    "        ### Rate\n",
    "        zero_crossings = np.where(np.diff(np.sign(pitch_snippet)))[0]\n",
    "        time_zerocrossings = time_snippet[zero_crossings[0::2]]\n",
    "        if len(time_zerocrossings) <=1: #不够一个周期==time_zerocrossings不到两个\n",
    "            if vib_features.size == 0:\n",
    "                vib_features = np.array([0.,0.,0.])\n",
    "            else:\n",
    "                vib_features = np.vstack((vib_features, np.array([0.,0.,0.])))\n",
    "            cur_time+=time_hop\n",
    "            continue\n",
    "        rate = 1.0/((1.0/(len(time_zerocrossings)-1))*sum(np.abs(time_zerocrossings[0:-1]-time_zerocrossings[1:])))\n",
    "        features.append(rate)\n",
    "\n",
    "        ### Extent\n",
    "        pitch_max = []\n",
    "        for index in range(len(zero_crossings)-1):\n",
    "            pitch_max.append(max(np.abs(pitch_snippet[zero_crossings[index]:zero_crossings[index+1]])))\n",
    "        pitch_max = np.array(pitch_max)\n",
    "        extent =  (0.5/(len(pitch_max)-1))*sum(np.abs(pitch_max[0:-1]+pitch_max[1:]))\n",
    "        features.append(extent)\n",
    "\n",
    "        if vib_features.size == 0:\n",
    "            vib_features = np.array(features)\n",
    "        else:\n",
    "            vib_features = np.vstack((vib_features,np.array(features)))\n",
    "        # print(features)\n",
    "        cur_time+=time_hop\n",
    "    return vib_features#(vib-0.25s-sections,3)-->likelihood,rate,extent"
   ]
  },
  {
   "cell_type": "code",
   "execution_count": 98,
   "metadata": {},
   "outputs": [],
   "source": [
    "def vi_feat(fpath):\n",
    "    return VibratoFeature(get_pitch_time_series(fpath))\n",
    "    "
   ]
  },
  {
   "cell_type": "code",
   "execution_count": 99,
   "metadata": {},
   "outputs": [
    {
     "name": "stdout",
     "output_type": "stream",
     "text": [
      "1025\n",
      "1986\n"
     ]
    }
   ],
   "source": [
    "fpath=r\"C:\\Users\\gaoyu\\Desktop\\music try\\data_resonance\\all_types_F_chain.wav\"\n",
    "X1=vi_feat(fpath)"
   ]
  },
  {
   "cell_type": "code",
   "execution_count": 100,
   "metadata": {},
   "outputs": [
    {
     "data": {
      "text/plain": [
       "(40, 3)"
      ]
     },
     "execution_count": 100,
     "metadata": {},
     "output_type": "execute_result"
    }
   ],
   "source": [
    "X1.shape"
   ]
  },
  {
   "cell_type": "code",
   "execution_count": null,
   "metadata": {},
   "outputs": [],
   "source": []
  }
 ],
 "metadata": {
  "kernelspec": {
   "display_name": "Python 3",
   "language": "python",
   "name": "python3"
  },
  "language_info": {
   "codemirror_mode": {
    "name": "ipython",
    "version": 3
   },
   "file_extension": ".py",
   "mimetype": "text/x-python",
   "name": "python",
   "nbconvert_exporter": "python",
   "pygments_lexer": "ipython3",
   "version": "3.6.4"
  }
 },
 "nbformat": 4,
 "nbformat_minor": 2
}
