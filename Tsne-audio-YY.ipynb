{
 "cells": [
  {
   "cell_type": "code",
   "execution_count": 10,
   "metadata": {},
   "outputs": [],
   "source": [
    "import pandas as pd\n",
    "import numpy as np\n",
    "from sklearn.preprocessing import LabelEncoder\n",
    "from sklearn.preprocessing import StandardScaler\n",
    "from sklearn.cross_validation import train_test_split\n",
    "from sklearn.metrics import accuracy_score\n",
    "# visulaize the important characteristics of the dataset\n",
    "import matplotlib.pyplot as plt\n",
    "import os\n",
    "import fnmatch\n",
    "import librosa\n",
    "# step 1: read the data"
   ]
  },
  {
   "cell_type": "code",
   "execution_count": 71,
   "metadata": {},
   "outputs": [
    {
     "name": "stdout",
     "output_type": "stream",
     "text": [
      "found 49 .wav files in C:\\Users\\gaoyu\\Desktop\\music try\\data_resonance\\resonance_set\n",
      "['ba' 'ba' 'ba' 'ba' 'ba' 'ba' 'ba' 'ba' 'ba' 'ba' 'ba' 'ba' 'ba' 'fo'\n",
      " 'fo' 'fo' 'fo' 'fo' 'fo' 'fo' 'fo' 'fo' 'fo' 'fo' 'fo' 'fo' 'fo' 'fo'\n",
      " 'fo' 'fo' 'na' 'na' 'na' 'na' 'na' 'na' 'na' 'na' 'na' 'na' 'na' 'na'\n",
      " 'na' 'na' 'na' 'na' 'no' 'no' 'no']\n",
      "(49,)\n",
      "(7254,)\n",
      "(4410,)\n",
      "[[-0.66689372 -0.69918436 -0.80782622 ...  0.15236062  0.15236062\n",
      "   0.15236062]\n",
      " [ 0.87063587  0.70230728  0.58516973 ...  0.05021209  0.05021209\n",
      "   0.05021209]\n",
      " [ 0.82424372  0.92535746  0.92112809 ...  0.04291914  0.04291914\n",
      "   0.04291914]\n",
      " ...\n",
      " [ 0.08516765  0.03510728  0.03592548 ...  0.06062106  0.06062106\n",
      "   0.06062106]\n",
      " [ 2.11155844  2.11864519  1.84817684 ...  0.0389136   0.0389136\n",
      "   0.0389136 ]\n",
      " [ 0.5321601   0.42784649  0.23352766 ...  0.03171856  0.03171856\n",
      "   0.03171856]] (49, 4410)\n"
     ]
    }
   ],
   "source": [
    "#get all files\n",
    "path = r'C:\\Users\\gaoyu\\Desktop\\music try\\data_resonance\\resonance_set'\n",
    "files = []\n",
    "sound_labels =  np.array([])\n",
    "for root, dirnames, filenames in os.walk(path):\n",
    "    for filename in fnmatch.filter(filenames, '*.wav'):\n",
    "        files.append(os.path.join(root, filename))\n",
    "        sound_labels=np.hstack((sound_labels, str(filename[:2])))  \n",
    "print(\"found %d .wav files in %s\"%(len(files),path))\n",
    "print(sound_labels)\n",
    "print(sound_labels.shape)\n",
    "\n",
    "#get feature for a single audio file\n",
    "#A.mfcc+delta(MFCC)+deltadelta(MFCC)-13(39)\n",
    "def get_features(y, sr): \n",
    "    S = librosa.feature.melspectrogram(y, sr=sr, n_mels=128)\n",
    "    log_S = librosa.amplitude_to_db(S, ref=np.max)\n",
    "    mfcc = librosa.feature.mfcc(S=log_S, n_mfcc=13)\n",
    "    delta_mfcc = librosa.feature.delta(mfcc, mode='nearest')\n",
    "    delta2_mfcc = librosa.feature.delta(mfcc, order=2, mode='nearest')\n",
    "    feature_vector = np.concatenate((np.mean(mfcc,1), np.mean(delta_mfcc,1), np.mean(delta2_mfcc,1)))\n",
    "    feature_vector = (feature_vector-np.mean(feature_vector)) / np.std(feature_vector)\n",
    "    return feature_vector\n",
    "#B.spectra(1025)\n",
    "def get_features1(y, sr): \n",
    "    S = np.abs(librosa.stft(y))\n",
    "    S=librosa.amplitude_to_db(S)\n",
    "    feature_vector = np.mean(S,1)\n",
    "    feature_vector = (feature_vector-np.mean(feature_vector)) / np.std(feature_vector)\n",
    "    print(feature_vector.shape)\n",
    "    return feature_vector\n",
    "#C.harmonics\n",
    "def get_features2(y, sr):\n",
    "    a=librosa.effects.harmonic(y)\n",
    "    feature_vector=a\n",
    "    feature_vector = (feature_vector-np.mean(feature_vector)) / np.std(feature_vector)\n",
    "    return feature_vector\n",
    "    \n",
    "\n",
    "# loop through all files to get the feature vector(x_std)\n",
    "feature_vectors = np.array([])\n",
    "for i,f in enumerate(files):\n",
    "    y, sr = librosa.load(f, res_type=\"kaiser_fast\")\n",
    "    \n",
    "    feat = get_features2(y, sr)\n",
    "    if i==0:\n",
    "        feature_vectors=np.hstack((feature_vectors, feat))\n",
    "    else:\n",
    "        try:\n",
    "            feature_vectors=np.vstack((feature_vectors, feat))\n",
    "        except:\n",
    "            print(feat.shape)\n",
    "            feat=feat[:4410]\n",
    "            print(feat.shape)\n",
    "            feature_vectors=np.vstack((feature_vectors, feat))\n",
    "\n",
    "# (feature_dim,number of files)   \n",
    "print(feature_vectors,feature_vectors.shape)"
   ]
  },
  {
   "cell_type": "code",
   "execution_count": 72,
   "metadata": {},
   "outputs": [],
   "source": [
    "#get y(label array)---encode the class label\n",
    "y=sound_labels\n",
    "class_labels = np.unique(y)\n",
    "label_encoder = LabelEncoder()\n",
    "y = label_encoder.fit_transform(y)\n",
    "x=feature_vectors\n",
    "standard_scaler = StandardScaler()\n",
    "x_std = standard_scaler.fit_transform(x)"
   ]
  },
  {
   "cell_type": "code",
   "execution_count": 75,
   "metadata": {},
   "outputs": [
    {
     "data": {
      "image/png": "[encoded data removed]",
      "text/plain": [
       "<Figure size 432x288 with 1 Axes>"
      ]
     },
     "metadata": {},
     "output_type": "display_data"
    }
   ],
   "source": [
    "# plit the data into training set and test set\n",
    "test_percentage = 0.7\n",
    "x_train, x_test, y_train, y_test = train_test_split(x_std, y, test_size = test_percentage, random_state = 0)\n",
    "\n",
    "# t-distributed Stochastic Neighbor Embedding (t-SNE) visualization\n",
    "from sklearn.manifold import TSNE\n",
    "tsne = TSNE(n_components=2, random_state=0)\n",
    "x_test_2d = tsne.fit_transform(x_test)\n",
    "\n",
    "# scatter plot the sample points among 4 classes\n",
    "markers=('s', 'd', 'o', '^')#, 'v'\n",
    "# backward forward nasal no\n",
    "color_map = {0:'red', 1:'blue', 2:'lightgreen', 3:'purple'}#,4:'cyan'\n",
    "plt.figure()\n",
    "for idx, cl in enumerate(np.unique(y_test)):\n",
    "    plt.scatter(x=x_test_2d[y_test==cl,0], y=x_test_2d[y_test==cl,1], c=color_map[idx], marker=markers[idx], label=cl)\n",
    "plt.xlabel('X in t-SNE')\n",
    "plt.ylabel('Y in t-SNE')\n",
    "plt.legend(loc='upper left')\n",
    "plt.title('t-SNE visualization of test data')\n",
    "plt.show()"
   ]
  },
  {
   "cell_type": "code",
   "execution_count": null,
   "metadata": {},
   "outputs": [],
   "source": []
  }
 ],
 "metadata": {
  "kernelspec": {
   "display_name": "Python 3",
   "language": "python",
   "name": "python3"
  },
  "language_info": {
   "codemirror_mode": {
    "name": "ipython",
    "version": 3
   },
   "file_extension": ".py",
   "mimetype": "text/x-python",
   "name": "python",
   "nbconvert_exporter": "python",
   "pygments_lexer": "ipython3",
   "version": "3.6.4"
  }
 },
 "nbformat": 4,
 "nbformat_minor": 2
}
