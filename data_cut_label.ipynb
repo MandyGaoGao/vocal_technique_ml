{
 "cells": [
  {
   "cell_type": "code",
   "execution_count": 2,
   "metadata": {},
   "outputs": [],
   "source": [
    "import moviepy.editor as mp\n",
    "import os\n",
    "import argparse\n",
    "from pydub import AudioSegment\n",
    "#trim audio and save\n",
    "import numpy\n",
    "import math\n",
    "import scipy.io.wavfile\n",
    "#"
   ]
  },
  {
   "cell_type": "code",
   "execution_count": 4,
   "metadata": {},
   "outputs": [
    {
     "name": "stdout",
     "output_type": "stream",
     "text": [
      "MoviePy - Writing audio in %s\n"
     ]
    },
    {
     "name": "stderr",
     "output_type": "stream",
     "text": [
      "                                                                                                                       \r"
     ]
    },
    {
     "name": "stdout",
     "output_type": "stream",
     "text": [
      "MoviePy - Done.\n"
     ]
    }
   ],
   "source": [
    "#F/M_0no/1head/2chest/3nasal/4voal(咽喉)_Y/N(yes:have bgm)\n",
    "clip = mp.VideoFileClip(r\"C:\\Users\\gaoyu\\Desktop\\res_audio\\audio_nasal\\ugc_1561560663030.mp4\").subclip(258,291)\n",
    "clip_process=clip.audio.write_audiofile(\"M_42_Y_ugc_1561560663030_3.mp3\")"
   ]
  },
  {
   "cell_type": "code",
   "execution_count": 7,
   "metadata": {},
   "outputs": [],
   "source": [
    "def cut_audio_save(filepath,start,end,new_name):\n",
    "    sound = AudioSegment.from_file(filepath)\n",
    "    demo = sound[start*1000:end*1000]#in ms\n",
    "    demo.export(new_name+\".mp3\", format=\"mp3\")"
   ]
  },
  {
   "cell_type": "code",
   "execution_count": 45,
   "metadata": {},
   "outputs": [
    {
     "name": "stdout",
     "output_type": "stream",
     "text": [
      "done\n"
     ]
    }
   ],
   "source": [
    "filepath=r\"C:\\Users\\gaoyu\\Desktop\\kg_t50_t100_for_predict\\ID098_top_87_76351de963e383b7537e47ef83f9fafc598106ad_98.mp4\"\n",
    "start=22\n",
    "end=90\n",
    "new_name=\"M_0_97\"\n",
    "cut_audio_save(filepath,start,end,new_name)\n",
    "print(\"done\")"
   ]
  },
  {
   "cell_type": "code",
   "execution_count": 89,
   "metadata": {},
   "outputs": [],
   "source": [
    "import scipy.io.wavfile as wav\n",
    "import glob\n",
    "from pathlib import Path\n",
    "import librosa\n",
    "\n",
    "\n",
    "audiol=glob.glob(r\"C:\\Users\\gaoyu\\Desktop\\res_audio\\res_manual_label\\demo_sample\\*\")\n",
    "ls=[]\n",
    "type_num=len(audiol)\n",
    "for i in range(type_num):\n",
    "    ls.append(glob.glob(audiol[i]+\"\\\\*.mp3\"))"
   ]
  },
  {
   "cell_type": "code",
   "execution_count": 94,
   "metadata": {},
   "outputs": [
    {
     "name": "stdout",
     "output_type": "stream",
     "text": [
      "C:\\Users\\gaoyu\\Desktop\\res_audio\\res_manual_label\\demo_sample\\F_1\\F_1_N_ugc_1559034571742_3.mp3\n",
      "C:\\Users\\gaoyu\\Desktop\\res_audio\\res_manual_label\\demo_sample\\F_1\\F_1_N_ugc_1562053652455_2.mp3\n",
      "C:\\Users\\gaoyu\\Desktop\\res_audio\\res_manual_label\\demo_sample\\F_2\\F_2_N_ugc_1557220602558_0.mp3\n",
      "done\n"
     ]
    }
   ],
   "source": [
    "\n",
    "nums=[]\n",
    "lengths=[]\n",
    "for i in range(type_num):\n",
    "    num=len(ls[i])\n",
    "    nums.append(num)\n",
    "    length=0\n",
    "    for j in ls[i]:\n",
    "        try:\n",
    "            ori_sig,fs=librosa.load(Path(j),sr=44100,res_type=\"kaiser_fast\")\n",
    "            last_time = (len(ori_sig)/fs)\n",
    "            length+=last_time\n",
    "        except:\n",
    "            print(j)\n",
    "        \n",
    "    lengths.append(length) \n",
    "print(\"done\")\n"
   ]
  },
  {
   "cell_type": "code",
   "execution_count": 100,
   "metadata": {},
   "outputs": [
    {
     "name": "stdout",
     "output_type": "stream",
     "text": [
      "f_straight 20\n",
      "352.7065759637188s\n",
      "f_head 31\n",
      "235.0s\n",
      "f_chest 26\n",
      "234.0s\n",
      "f_nasal 4\n",
      "68.0s\n",
      "f_vocal 7\n",
      "47.0s\n",
      "m_straight 6\n",
      "36.0s\n",
      "m_head 12\n",
      "64.0s\n",
      "m_chest 36\n",
      "338.0s\n",
      "m_nasal 0\n",
      "0s\n",
      "m_vocal 9\n",
      "96.0s\n"
     ]
    }
   ],
   "source": [
    "types=[\"f_straight\",\"f_head\",\"f_chest\",\"f_nasal\",\"f_vocal\",\"m_straight\",\"m_head\",\"m_chest\",\"m_nasal\",\"m_vocal\"]\n",
    "for i in range(type_num):\n",
    "    print(types[i]+\" \"+str(nums[i])+\"\\n\"+str(lengths[i])+\"s\")"
   ]
  },
  {
   "cell_type": "code",
   "execution_count": 54,
   "metadata": {},
   "outputs": [
    {
     "ename": "SyntaxError",
     "evalue": "invalid syntax (<ipython-input-54-e672c90789bc>, line 1)",
     "output_type": "error",
     "traceback": [
      "\u001b[1;36m  File \u001b[1;32m\"<ipython-input-54-e672c90789bc>\"\u001b[1;36m, line \u001b[1;32m1\u001b[0m\n\u001b[1;33m    for\u001b[0m\n\u001b[1;37m        ^\u001b[0m\n\u001b[1;31mSyntaxError\u001b[0m\u001b[1;31m:\u001b[0m invalid syntax\n"
     ]
    }
   ],
   "source": [
    "for \n",
    "(fs, ori_sig) = wav.read(audio_path)\n",
    "last_time = (len(ori_sig)/fs)*1000# audio length in miliseconds\n",
    "print(last_time)"
   ]
  },
  {
   "cell_type": "code",
   "execution_count": null,
   "metadata": {},
   "outputs": [],
   "source": []
  }
 ],
 "metadata": {
  "kernelspec": {
   "display_name": "Python 3",
   "language": "python",
   "name": "python3"
  }
 },
 "nbformat": 4,
 "nbformat_minor": 2
}
